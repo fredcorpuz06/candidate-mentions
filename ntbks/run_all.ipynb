{
 "cells": [
  {
   "cell_type": "code",
   "execution_count": null,
   "metadata": {},
   "outputs": [],
   "source": [
    "import numpy as np, pandas as pd, matplotlib.pyplot as plt\n",
    "from pandas.io.json import json_normalize\n",
    "import glob, os, json, pickle\n",
    "import re\n",
    "\n",
    "import cv2, face_recognition"
   ]
  },
  {
   "cell_type": "markdown",
   "metadata": {},
   "source": [
    "# Read in Data"
   ]
  },
  {
   "cell_type": "code",
   "execution_count": null,
   "metadata": {},
   "outputs": [],
   "source": [
    "og_ad = pd.read_csv(\"./data/og_ad.csv\", encoding = \"ISO-8859-1\")\n",
    "og_ad.head()"
   ]
  },
  {
   "cell_type": "code",
   "execution_count": null,
   "metadata": {},
   "outputs": [],
   "source": [
    "with open(\"./output/candidate_face_encodings.json\", \"r\") as f:\n",
    "    candidate_face_encodings = json.load(f)\n",
    "\n",
    "known_names = []\n",
    "known_faces = []\n",
    "for k, face in candidate_face_encodings.items():\n",
    "    if face['face_encoding'] is not None:\n",
    "        known_names.append(k)\n",
    "        known_faces.append(face['face_encoding'])\n",
    "        "
   ]
  },
  {
   "cell_type": "markdown",
   "metadata": {},
   "source": [
    "# Run script on all"
   ]
  },
  {
   "cell_type": "code",
   "execution_count": null,
   "metadata": {},
   "outputs": [],
   "source": [
    "media_fldr = \"./data/og_ad_media/*\"\n",
    "ims = \"./data/og_ad_media/*.jpg\"\n",
    "vids = \"./data/og_ad_media/*.mp4\"\n",
    "media_fps = glob.glob(media_fldr)\n",
    "print(len(media_fps), len(glob.glob(ims)), len(glob.glob(vids)))\n"
   ]
  },
  {
   "cell_type": "code",
   "execution_count": null,
   "metadata": {},
   "outputs": [],
   "source": [
    "# List all our media files by ID\n",
    "media_dict = {}\n",
    "for m in media_fps:\n",
    "    media_name = os.path.basename(m)\n",
    "    x = media_name.split(\"_\")\n",
    "    ad_id, media_type = x[0], x[1]\n",
    "    \n",
    "    images = []\n",
    "    videos = []\n",
    "    \n",
    "    if \"image\" in media_type:\n",
    "        images.append(m)\n",
    "    else:\n",
    "        videos.append(m)\n",
    "    \n",
    "    if ad_id in media_dict:\n",
    "        media_dict[ad_id]['images'].extend(images)\n",
    "        media_dict[ad_id]['videos'].extend(videos)\n",
    "    else:\n",
    "        media_dict[ad_id] = {\n",
    "            \"images\": images,\n",
    "            \"videos\": videos\n",
    "        }\n",
    "    "
   ]
  },
  {
   "cell_type": "code",
   "execution_count": null,
   "metadata": {},
   "outputs": [],
   "source": [
    "with open('./output/og_medias.json', 'w') as fp:\n",
    "    json.dump(media_dict, fp, sort_keys=True, indent=4)"
   ]
  },
  {
   "cell_type": "code",
   "execution_count": null,
   "metadata": {},
   "outputs": [],
   "source": [
    "ad = media_dict[\"1008372119347745\"]\n",
    "print(ad)\n",
    "ad_im = ad['images'][1]\n",
    "# ad_vid = ad['videos'][0]\n"
   ]
  },
  {
   "cell_type": "code",
   "execution_count": null,
   "metadata": {},
   "outputs": [],
   "source": [
    "def grab_media_name(fp):\n",
    "    names = re.findall(\"[A-Za-z0-9_]+\\.[a-z0-9]{3}\", fp)[0]\n",
    "    return names\n",
    "#     return f\"{names[0]}_{names[1]}.{names[2]}\"\n",
    "grab_media_name(\"./data/og_ad_media\\\\1000052250196513_image1.jpg\")\n",
    "grab_media_name(\"./data/og_ad_media\\\\1000869713437051_video0.mp4\")\n"
   ]
  },
  {
   "cell_type": "code",
   "execution_count": null,
   "metadata": {},
   "outputs": [],
   "source": [
    "import recognize_faces as recog\n",
    "rec_img = recog.FaceRecognizer(known_names, known_faces)\n",
    "vid_annot = recog.VideoAnnotator(known_names, known_faces, 5)"
   ]
  },
  {
   "cell_type": "code",
   "execution_count": null,
   "metadata": {},
   "outputs": [],
   "source": [
    "# Find all mentions in images and videos\n",
    "media_mentions = {}\n",
    "for k, medias in media_dict.items():\n",
    "    ims, vids = medias['images'], medias['videos']    \n",
    "    im_mentions, vid_mentions = [], []\n",
    "    \n",
    "    for im in ims:\n",
    "        rgb_img = rec_img.read_image_rgb(im)\n",
    "        mentions = []\n",
    "        if rgb_img is not None:\n",
    "            found_faces = rec_img.name_all_faces(rgb_img, draw_matches=True)\n",
    "            mentions = found_faces['face_names']\n",
    "            plt.imshow(found_faces['boxed_img'])\n",
    "            plt.show()\n",
    "        im_mentions.append((im, mentions))\n",
    "    for vid in vids:\n",
    "        vid_annot.process_vid(vid)\n",
    "        vid_mentions.append((vid, ['Fred', \"Fred2\"]))\n",
    "    \n",
    "    media_mentions[k] = {\n",
    "        'images': im_mentions,\n",
    "        'videos': vid_mentions,\n",
    "    }"
   ]
  },
  {
   "cell_type": "code",
   "execution_count": null,
   "metadata": {},
   "outputs": [],
   "source": [
    "media_mentions"
   ]
  },
  {
   "cell_type": "markdown",
   "metadata": {},
   "source": [
    "### Convert to DataFrame"
   ]
  },
  {
   "cell_type": "code",
   "execution_count": null,
   "metadata": {},
   "outputs": [],
   "source": [
    "mentions_dict = {\n",
    "    'ad_id': [],\n",
    "    'media_type': [],\n",
    "    'loc': [],\n",
    "    'mentions': [],\n",
    "}"
   ]
  },
  {
   "cell_type": "code",
   "execution_count": null,
   "metadata": {},
   "outputs": [],
   "source": [
    "for k, medias in media_mentions.items():\n",
    "    ims_mentions, vids_mentions = medias['images'], medias['videos']    \n",
    "\n",
    "    for (im_loc, im_mention) in ims_mentions:\n",
    "        for m in im_mention:\n",
    "            mentions_dict['ad_id'].append(k)\n",
    "            mentions_dict['media_type'].append(\"image\")\n",
    "            mentions_dict['loc'].append(grab_media_name(im_loc))\n",
    "            mentions_dict['mentions'].append(m)\n",
    "    for (vid_loc, vid_mention) in vid_mentions:\n",
    "        for m in vid_mention:\n",
    "            mentions_dict['ad_id'].append(k)\n",
    "            mentions_dict['media_type'].append(\"video\")\n",
    "            mentions_dict['loc'].append(grab_media_name(vid_loc))\n",
    "            mentions_dict['mentions'].append(m)"
   ]
  },
  {
   "cell_type": "code",
   "execution_count": null,
   "metadata": {},
   "outputs": [],
   "source": [
    "for k, v in mentions_dict.items():\n",
    "    print(len(v))"
   ]
  },
  {
   "cell_type": "code",
   "execution_count": null,
   "metadata": {},
   "outputs": [],
   "source": [
    "pd.DataFrame(mentions_dict)"
   ]
  },
  {
   "cell_type": "code",
   "execution_count": null,
   "metadata": {},
   "outputs": [],
   "source": []
  }
 ],
 "metadata": {
  "kernelspec": {
   "display_name": "Python 3",
   "language": "python",
   "name": "python3"
  },
  "language_info": {
   "codemirror_mode": {
    "name": "ipython",
    "version": 3
   },
   "file_extension": ".py",
   "mimetype": "text/x-python",
   "name": "python",
   "nbconvert_exporter": "python",
   "pygments_lexer": "ipython3",
   "version": "3.7.3"
  }
 },
 "nbformat": 4,
 "nbformat_minor": 2
}
